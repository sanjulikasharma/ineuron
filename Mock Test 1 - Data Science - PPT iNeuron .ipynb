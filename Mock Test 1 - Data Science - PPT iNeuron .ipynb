{
 "cells": [
  {
   "cell_type": "markdown",
   "id": "fcc60d33",
   "metadata": {},
   "source": [
    "17. Write a function that takes a list of numbers as input and returns a new list containing only the even numbers from the input list. Use list comprehension to solve this problem."
   ]
  },
  {
   "cell_type": "code",
   "execution_count": 21,
   "id": "a5f2e000",
   "metadata": {},
   "outputs": [
    {
     "data": {
      "text/plain": [
       "[2, 4, 6, 8, 10]"
      ]
     },
     "execution_count": 21,
     "metadata": {},
     "output_type": "execute_result"
    }
   ],
   "source": [
    "def even_list(L): \n",
    "    even_L =[]\n",
    "    for i in L: \n",
    "\n",
    "        if i%2 == 0: \n",
    "            even_L.append(i)\n",
    "            i=i+1\n",
    "\n",
    "    return even_L \n",
    "\n",
    "even_num_in_list = even_list([1, 2, 3, 4, 5, 6, 7, 8, 9, 10])\n",
    "even_num_in_list"
   ]
  },
  {
   "cell_type": "markdown",
   "id": "e3f16066",
   "metadata": {},
   "source": [
    "18. Implement a decorator function called ‘timer’ that measures the execution time of a function. The ‘timer’ decorator should print the time taken by the decorated function to execute. Use the ‘time’ module in Python to calculate the execution time."
   ]
  },
  {
   "cell_type": "code",
   "execution_count": 27,
   "id": "27530b46",
   "metadata": {},
   "outputs": [
    {
     "name": "stdout",
     "output_type": "stream",
     "text": [
      "Function 'even_list' executed in 0.0000s\n"
     ]
    },
    {
     "data": {
      "text/plain": [
       "[2, 4, 6, 8, 10]"
      ]
     },
     "execution_count": 27,
     "metadata": {},
     "output_type": "execute_result"
    }
   ],
   "source": [
    "from time import time \n",
    "\n",
    "def my_timer_func(func): \n",
    "    \n",
    "    def timer(*args, **kwargs):\n",
    "        t1 = time()\n",
    "        result = func(*args, **kwargs)\n",
    "        t2 = time()\n",
    "        print(f'Function {func.__name__!r} executed in {(t2-t1):.4f}s')\n",
    "        return result\n",
    "    return timer\n",
    "\n",
    "@my_timer_func \n",
    "def even_list(L): \n",
    "    even_L =[]\n",
    "    for i in L: \n",
    "\n",
    "        if i%2 == 0: \n",
    "            even_L.append(i)\n",
    "            i=i+1\n",
    "\n",
    "    return even_L \n",
    "\n",
    "even_num_in_list = even_list([1, 2, 3, 4, 5, 6, 7, 8, 9, 10])\n",
    "even_num_in_list"
   ]
  },
  {
   "cell_type": "markdown",
   "id": "3d12982b",
   "metadata": {},
   "source": [
    "19. Write a function called ‘calculate_mean’ that takes a list of numbers as input and returns the mean (average) of the numbers. The function should calculate the mean using the sum of the numbers divided by the total count."
   ]
  },
  {
   "cell_type": "code",
   "execution_count": 28,
   "id": "f02c407d",
   "metadata": {},
   "outputs": [
    {
     "name": "stdout",
     "output_type": "stream",
     "text": [
      "Function 'calculate_mean' executed in 0.0000s\n"
     ]
    },
    {
     "data": {
      "text/plain": [
       "5.5"
      ]
     },
     "execution_count": 28,
     "metadata": {},
     "output_type": "execute_result"
    }
   ],
   "source": [
    "@my_timer_func\n",
    "def calculate_mean(l): \n",
    "    sum = 0 \n",
    "    for i in l : \n",
    "        sum = sum + i \n",
    "        i =i+1 \n",
    "    return sum/len(l)\n",
    "\n",
    "calculate_mean([1, 2, 3, 4, 5, 6, 7, 8, 9, 10])"
   ]
  },
  {
   "cell_type": "markdown",
   "id": "a31131c5",
   "metadata": {},
   "source": [
    "20. Write a function called ‘perform_hypothesis_test’ that takes two lists of numbers as input, representing two samples. The function should perform a two-sample t-test and return the p-value. Use the ‘scipy.stats’ module in Python to calculate the t-test and p-value."
   ]
  },
  {
   "cell_type": "code",
   "execution_count": 34,
   "id": "5a019043",
   "metadata": {},
   "outputs": [
    {
     "name": "stdout",
     "output_type": "stream",
     "text": [
      "P-value: 0.09434977284243756\n"
     ]
    }
   ],
   "source": [
    "from scipy import stats\n",
    "\n",
    "def perform_hypothesis_test(sample1, sample2):\n",
    "    t_statistic, p_value = stats.ttest_ind(sample1, sample2, equal_var = True  )\n",
    "    return p_value\n",
    "\n",
    "sample1 = [5, 10, 15, 20, 25]\n",
    "sample2 = [10, 20, 30, 40, 50]\n",
    "p_value = perform_hypothesis_test(sample1, sample2)\n",
    "print(\"P-value:\", p_value)"
   ]
  },
  {
   "cell_type": "code",
   "execution_count": null,
   "id": "d7ff25ac",
   "metadata": {},
   "outputs": [],
   "source": []
  }
 ],
 "metadata": {
  "kernelspec": {
   "display_name": "Python 3 (ipykernel)",
   "language": "python",
   "name": "python3"
  },
  "language_info": {
   "codemirror_mode": {
    "name": "ipython",
    "version": 3
   },
   "file_extension": ".py",
   "mimetype": "text/x-python",
   "name": "python",
   "nbconvert_exporter": "python",
   "pygments_lexer": "ipython3",
   "version": "3.9.12"
  }
 },
 "nbformat": 4,
 "nbformat_minor": 5
}
